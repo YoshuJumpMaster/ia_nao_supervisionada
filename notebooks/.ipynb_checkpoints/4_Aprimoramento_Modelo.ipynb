{
 "cells": [
  {
   "cell_type": "code",
   "execution_count": 2,
   "metadata": {},
   "outputs": [
    {
     "name": "stdout",
     "output_type": "stream",
     "text": [
      "diretório: c:\\Users\\ianfe\\Desktop\\IA\\projeto_dupla\\Atividade-4-Redes-Neurais\\notebooks\n",
      "Dados carregados com sucesso!\n",
      "X_train shape: (666, 8)\n",
      "X_val shape: (143, 8)\n",
      "X_test shape: (143, 8)\n"
     ]
    }
   ],
   "source": [
    "import numpy as np\n",
    "import pandas as pd\n",
    "from sklearn.metrics import classification_report, confusion_matrix\n",
    "from tensorflow.keras.models import Sequential\n",
    "from tensorflow.keras.layers import Dense, Dropout\n",
    "from tensorflow.keras.callbacks import EarlyStopping\n",
    "\n",
    "# Carregar os dados processados (salvos como arquivo .npz)\n",
    "\n",
    "import os\n",
    "\n",
    "os.chdir(os.path.dirname(os.getcwd()))\n",
    "print(\"diretório:\", os.getcwd())\n",
    "\n",
    "\n",
    "dados = np.load('../dados/dados_processados.npz')\n",
    "\n",
    "X_train = dados['X_train']\n",
    "y_train = dados['y_train']\n",
    "X_val = dados['X_val']\n",
    "y_val = dados['y_val']\n",
    "X_test = dados['X_test']\n",
    "y_test = dados['y_test']\n",
    "\n",
    "print(\"Dados carregados com sucesso!\")\n",
    "print(f\"X_train shape: {X_train.shape}\")\n",
    "print(f\"X_val shape: {X_val.shape}\")\n",
    "print(f\"X_test shape: {X_test.shape}\")\n",
    "\n",
    "# em reusmo, o trecho acima carrega os dados processados e divide em treino, validação e teste\n"
   ]
  },
  {
   "cell_type": "markdown",
   "metadata": {},
   "source": [
    "Inicialmente ajustou o número de neurônios na primeira camada oculta de 64 para 128."
   ]
  },
  {
   "cell_type": "code",
   "execution_count": 3,
   "metadata": {},
   "outputs": [
    {
     "name": "stderr",
     "output_type": "stream",
     "text": [
      "c:\\Users\\ianfe\\Desktop\\IA\\projeto_dupla\\Atividade-4-Redes-Neurais\\venv\\Lib\\site-packages\\keras\\src\\layers\\core\\dense.py:87: UserWarning: Do not pass an `input_shape`/`input_dim` argument to a layer. When using Sequential models, prefer using an `Input(shape)` object as the first layer in the model instead.\n",
      "  super().__init__(activity_regularizer=activity_regularizer, **kwargs)\n"
     ]
    },
    {
     "data": {
      "text/html": [
       "<pre style=\"white-space:pre;overflow-x:auto;line-height:normal;font-family:Menlo,'DejaVu Sans Mono',consolas,'Courier New',monospace\"><span style=\"font-weight: bold\">Model: \"sequential\"</span>\n",
       "</pre>\n"
      ],
      "text/plain": [
       "\u001b[1mModel: \"sequential\"\u001b[0m\n"
      ]
     },
     "metadata": {},
     "output_type": "display_data"
    },
    {
     "data": {
      "text/html": [
       "<pre style=\"white-space:pre;overflow-x:auto;line-height:normal;font-family:Menlo,'DejaVu Sans Mono',consolas,'Courier New',monospace\">┏━━━━━━━━━━━━━━━━━━━━━━━━━━━━━━━━━┳━━━━━━━━━━━━━━━━━━━━━━━━┳━━━━━━━━━━━━━━━┓\n",
       "┃<span style=\"font-weight: bold\"> Layer (type)                    </span>┃<span style=\"font-weight: bold\"> Output Shape           </span>┃<span style=\"font-weight: bold\">       Param # </span>┃\n",
       "┡━━━━━━━━━━━━━━━━━━━━━━━━━━━━━━━━━╇━━━━━━━━━━━━━━━━━━━━━━━━╇━━━━━━━━━━━━━━━┩\n",
       "│ dense (<span style=\"color: #0087ff; text-decoration-color: #0087ff\">Dense</span>)                   │ (<span style=\"color: #00d7ff; text-decoration-color: #00d7ff\">None</span>, <span style=\"color: #00af00; text-decoration-color: #00af00\">128</span>)            │         <span style=\"color: #00af00; text-decoration-color: #00af00\">1,152</span> │\n",
       "├─────────────────────────────────┼────────────────────────┼───────────────┤\n",
       "│ dropout (<span style=\"color: #0087ff; text-decoration-color: #0087ff\">Dropout</span>)               │ (<span style=\"color: #00d7ff; text-decoration-color: #00d7ff\">None</span>, <span style=\"color: #00af00; text-decoration-color: #00af00\">128</span>)            │             <span style=\"color: #00af00; text-decoration-color: #00af00\">0</span> │\n",
       "├─────────────────────────────────┼────────────────────────┼───────────────┤\n",
       "│ dense_1 (<span style=\"color: #0087ff; text-decoration-color: #0087ff\">Dense</span>)                 │ (<span style=\"color: #00d7ff; text-decoration-color: #00d7ff\">None</span>, <span style=\"color: #00af00; text-decoration-color: #00af00\">32</span>)             │         <span style=\"color: #00af00; text-decoration-color: #00af00\">4,128</span> │\n",
       "├─────────────────────────────────┼────────────────────────┼───────────────┤\n",
       "│ dropout_1 (<span style=\"color: #0087ff; text-decoration-color: #0087ff\">Dropout</span>)             │ (<span style=\"color: #00d7ff; text-decoration-color: #00d7ff\">None</span>, <span style=\"color: #00af00; text-decoration-color: #00af00\">32</span>)             │             <span style=\"color: #00af00; text-decoration-color: #00af00\">0</span> │\n",
       "├─────────────────────────────────┼────────────────────────┼───────────────┤\n",
       "│ dense_2 (<span style=\"color: #0087ff; text-decoration-color: #0087ff\">Dense</span>)                 │ (<span style=\"color: #00d7ff; text-decoration-color: #00d7ff\">None</span>, <span style=\"color: #00af00; text-decoration-color: #00af00\">1</span>)              │            <span style=\"color: #00af00; text-decoration-color: #00af00\">33</span> │\n",
       "└─────────────────────────────────┴────────────────────────┴───────────────┘\n",
       "</pre>\n"
      ],
      "text/plain": [
       "┏━━━━━━━━━━━━━━━━━━━━━━━━━━━━━━━━━┳━━━━━━━━━━━━━━━━━━━━━━━━┳━━━━━━━━━━━━━━━┓\n",
       "┃\u001b[1m \u001b[0m\u001b[1mLayer (type)                   \u001b[0m\u001b[1m \u001b[0m┃\u001b[1m \u001b[0m\u001b[1mOutput Shape          \u001b[0m\u001b[1m \u001b[0m┃\u001b[1m \u001b[0m\u001b[1m      Param #\u001b[0m\u001b[1m \u001b[0m┃\n",
       "┡━━━━━━━━━━━━━━━━━━━━━━━━━━━━━━━━━╇━━━━━━━━━━━━━━━━━━━━━━━━╇━━━━━━━━━━━━━━━┩\n",
       "│ dense (\u001b[38;5;33mDense\u001b[0m)                   │ (\u001b[38;5;45mNone\u001b[0m, \u001b[38;5;34m128\u001b[0m)            │         \u001b[38;5;34m1,152\u001b[0m │\n",
       "├─────────────────────────────────┼────────────────────────┼───────────────┤\n",
       "│ dropout (\u001b[38;5;33mDropout\u001b[0m)               │ (\u001b[38;5;45mNone\u001b[0m, \u001b[38;5;34m128\u001b[0m)            │             \u001b[38;5;34m0\u001b[0m │\n",
       "├─────────────────────────────────┼────────────────────────┼───────────────┤\n",
       "│ dense_1 (\u001b[38;5;33mDense\u001b[0m)                 │ (\u001b[38;5;45mNone\u001b[0m, \u001b[38;5;34m32\u001b[0m)             │         \u001b[38;5;34m4,128\u001b[0m │\n",
       "├─────────────────────────────────┼────────────────────────┼───────────────┤\n",
       "│ dropout_1 (\u001b[38;5;33mDropout\u001b[0m)             │ (\u001b[38;5;45mNone\u001b[0m, \u001b[38;5;34m32\u001b[0m)             │             \u001b[38;5;34m0\u001b[0m │\n",
       "├─────────────────────────────────┼────────────────────────┼───────────────┤\n",
       "│ dense_2 (\u001b[38;5;33mDense\u001b[0m)                 │ (\u001b[38;5;45mNone\u001b[0m, \u001b[38;5;34m1\u001b[0m)              │            \u001b[38;5;34m33\u001b[0m │\n",
       "└─────────────────────────────────┴────────────────────────┴───────────────┘\n"
      ]
     },
     "metadata": {},
     "output_type": "display_data"
    },
    {
     "data": {
      "text/html": [
       "<pre style=\"white-space:pre;overflow-x:auto;line-height:normal;font-family:Menlo,'DejaVu Sans Mono',consolas,'Courier New',monospace\"><span style=\"font-weight: bold\"> Total params: </span><span style=\"color: #00af00; text-decoration-color: #00af00\">5,313</span> (20.75 KB)\n",
       "</pre>\n"
      ],
      "text/plain": [
       "\u001b[1m Total params: \u001b[0m\u001b[38;5;34m5,313\u001b[0m (20.75 KB)\n"
      ]
     },
     "metadata": {},
     "output_type": "display_data"
    },
    {
     "data": {
      "text/html": [
       "<pre style=\"white-space:pre;overflow-x:auto;line-height:normal;font-family:Menlo,'DejaVu Sans Mono',consolas,'Courier New',monospace\"><span style=\"font-weight: bold\"> Trainable params: </span><span style=\"color: #00af00; text-decoration-color: #00af00\">5,313</span> (20.75 KB)\n",
       "</pre>\n"
      ],
      "text/plain": [
       "\u001b[1m Trainable params: \u001b[0m\u001b[38;5;34m5,313\u001b[0m (20.75 KB)\n"
      ]
     },
     "metadata": {},
     "output_type": "display_data"
    },
    {
     "data": {
      "text/html": [
       "<pre style=\"white-space:pre;overflow-x:auto;line-height:normal;font-family:Menlo,'DejaVu Sans Mono',consolas,'Courier New',monospace\"><span style=\"font-weight: bold\"> Non-trainable params: </span><span style=\"color: #00af00; text-decoration-color: #00af00\">0</span> (0.00 B)\n",
       "</pre>\n"
      ],
      "text/plain": [
       "\u001b[1m Non-trainable params: \u001b[0m\u001b[38;5;34m0\u001b[0m (0.00 B)\n"
      ]
     },
     "metadata": {},
     "output_type": "display_data"
    }
   ],
   "source": [
    "from tensorflow.keras.models import Sequential\n",
    "from tensorflow.keras.layers import Dense, Dropout\n",
    "\n",
    "# Define nova arquitetura com 128 neurônios na primeira camada oculta\n",
    "model_improved = Sequential([ # Modelo sequencial\n",
    "    Dense(128, input_dim=X_train.shape[1], activation='relu'), # Camada oculta com 128 neurônios\n",
    "    Dropout(0.5), # Dropout de 50%\n",
    "    Dense(32, activation='relu'), # Camada oculta com 32 neurônios\n",
    "    Dropout(0.5), # Dropout de 50%\n",
    "    Dense(1, activation='sigmoid')  # Saída para classificação binária\n",
    "])\n",
    "\n",
    "# Resumo do novo modelo\n",
    "model_improved.summary()\n",
    "\n",
    "# em resumo, o trecho acima define um modelo com 128 neurônios na primeira camada oculta e 32 na segunda, com dropout de 50% em ambas as camadas\n"
   ]
  },
  {
   "cell_type": "code",
   "execution_count": 4,
   "metadata": {},
   "outputs": [
    {
     "name": "stdout",
     "output_type": "stream",
     "text": [
      "Epoch 1/100\n",
      "\u001b[1m21/21\u001b[0m \u001b[32m━━━━━━━━━━━━━━━━━━━━\u001b[0m\u001b[37m\u001b[0m \u001b[1m1s\u001b[0m 6ms/step - accuracy: 0.5096 - loss: 0.6948 - val_accuracy: 0.5105 - val_loss: 0.6920\n",
      "Epoch 2/100\n",
      "\u001b[1m21/21\u001b[0m \u001b[32m━━━━━━━━━━━━━━━━━━━━\u001b[0m\u001b[37m\u001b[0m \u001b[1m0s\u001b[0m 2ms/step - accuracy: 0.4976 - loss: 0.6967 - val_accuracy: 0.5175 - val_loss: 0.6922\n",
      "Epoch 3/100\n",
      "\u001b[1m21/21\u001b[0m \u001b[32m━━━━━━━━━━━━━━━━━━━━\u001b[0m\u001b[37m\u001b[0m \u001b[1m0s\u001b[0m 2ms/step - accuracy: 0.5331 - loss: 0.6949 - val_accuracy: 0.5245 - val_loss: 0.6921\n",
      "Epoch 4/100\n",
      "\u001b[1m21/21\u001b[0m \u001b[32m━━━━━━━━━━━━━━━━━━━━\u001b[0m\u001b[37m\u001b[0m \u001b[1m0s\u001b[0m 2ms/step - accuracy: 0.5515 - loss: 0.6930 - val_accuracy: 0.4825 - val_loss: 0.6924\n",
      "Epoch 5/100\n",
      "\u001b[1m21/21\u001b[0m \u001b[32m━━━━━━━━━━━━━━━━━━━━\u001b[0m\u001b[37m\u001b[0m \u001b[1m0s\u001b[0m 2ms/step - accuracy: 0.5277 - loss: 0.6933 - val_accuracy: 0.5455 - val_loss: 0.6921\n",
      "Epoch 6/100\n",
      "\u001b[1m21/21\u001b[0m \u001b[32m━━━━━━━━━━━━━━━━━━━━\u001b[0m\u001b[37m\u001b[0m \u001b[1m0s\u001b[0m 2ms/step - accuracy: 0.5250 - loss: 0.6912 - val_accuracy: 0.5175 - val_loss: 0.6928\n",
      "Epoch 7/100\n",
      "\u001b[1m21/21\u001b[0m \u001b[32m━━━━━━━━━━━━━━━━━━━━\u001b[0m\u001b[37m\u001b[0m \u001b[1m0s\u001b[0m 2ms/step - accuracy: 0.5339 - loss: 0.6908 - val_accuracy: 0.5664 - val_loss: 0.6927\n",
      "Epoch 8/100\n",
      "\u001b[1m21/21\u001b[0m \u001b[32m━━━━━━━━━━━━━━━━━━━━\u001b[0m\u001b[37m\u001b[0m \u001b[1m0s\u001b[0m 2ms/step - accuracy: 0.5226 - loss: 0.6936 - val_accuracy: 0.5664 - val_loss: 0.6929\n",
      "Epoch 9/100\n",
      "\u001b[1m21/21\u001b[0m \u001b[32m━━━━━━━━━━━━━━━━━━━━\u001b[0m\u001b[37m\u001b[0m \u001b[1m0s\u001b[0m 2ms/step - accuracy: 0.5205 - loss: 0.6928 - val_accuracy: 0.5175 - val_loss: 0.6923\n",
      "Epoch 10/100\n",
      "\u001b[1m21/21\u001b[0m \u001b[32m━━━━━━━━━━━━━━━━━━━━\u001b[0m\u001b[37m\u001b[0m \u001b[1m0s\u001b[0m 2ms/step - accuracy: 0.5155 - loss: 0.6923 - val_accuracy: 0.5594 - val_loss: 0.6921\n",
      "Epoch 11/100\n",
      "\u001b[1m21/21\u001b[0m \u001b[32m━━━━━━━━━━━━━━━━━━━━\u001b[0m\u001b[37m\u001b[0m \u001b[1m0s\u001b[0m 2ms/step - accuracy: 0.4970 - loss: 0.7027 - val_accuracy: 0.5315 - val_loss: 0.6909\n",
      "Epoch 12/100\n",
      "\u001b[1m21/21\u001b[0m \u001b[32m━━━━━━━━━━━━━━━━━━━━\u001b[0m\u001b[37m\u001b[0m \u001b[1m0s\u001b[0m 2ms/step - accuracy: 0.5282 - loss: 0.6922 - val_accuracy: 0.5175 - val_loss: 0.6910\n",
      "Epoch 13/100\n",
      "\u001b[1m21/21\u001b[0m \u001b[32m━━━━━━━━━━━━━━━━━━━━\u001b[0m\u001b[37m\u001b[0m \u001b[1m0s\u001b[0m 2ms/step - accuracy: 0.5290 - loss: 0.6918 - val_accuracy: 0.5455 - val_loss: 0.6915\n",
      "Epoch 14/100\n",
      "\u001b[1m21/21\u001b[0m \u001b[32m━━━━━━━━━━━━━━━━━━━━\u001b[0m\u001b[37m\u001b[0m \u001b[1m0s\u001b[0m 2ms/step - accuracy: 0.5394 - loss: 0.6895 - val_accuracy: 0.5105 - val_loss: 0.6914\n",
      "Epoch 15/100\n",
      "\u001b[1m21/21\u001b[0m \u001b[32m━━━━━━━━━━━━━━━━━━━━\u001b[0m\u001b[37m\u001b[0m \u001b[1m0s\u001b[0m 2ms/step - accuracy: 0.5335 - loss: 0.6902 - val_accuracy: 0.5245 - val_loss: 0.6918\n",
      "Epoch 16/100\n",
      "\u001b[1m21/21\u001b[0m \u001b[32m━━━━━━━━━━━━━━━━━━━━\u001b[0m\u001b[37m\u001b[0m \u001b[1m0s\u001b[0m 2ms/step - accuracy: 0.5849 - loss: 0.6811 - val_accuracy: 0.5594 - val_loss: 0.6920\n",
      "Epoch 17/100\n",
      "\u001b[1m21/21\u001b[0m \u001b[32m━━━━━━━━━━━━━━━━━━━━\u001b[0m\u001b[37m\u001b[0m \u001b[1m0s\u001b[0m 2ms/step - accuracy: 0.5717 - loss: 0.6850 - val_accuracy: 0.5524 - val_loss: 0.6929\n",
      "Epoch 18/100\n",
      "\u001b[1m21/21\u001b[0m \u001b[32m━━━━━━━━━━━━━━━━━━━━\u001b[0m\u001b[37m\u001b[0m \u001b[1m0s\u001b[0m 2ms/step - accuracy: 0.5151 - loss: 0.6898 - val_accuracy: 0.5245 - val_loss: 0.6910\n",
      "Epoch 19/100\n",
      "\u001b[1m21/21\u001b[0m \u001b[32m━━━━━━━━━━━━━━━━━━━━\u001b[0m\u001b[37m\u001b[0m \u001b[1m0s\u001b[0m 2ms/step - accuracy: 0.5099 - loss: 0.6968 - val_accuracy: 0.5385 - val_loss: 0.6909\n",
      "Epoch 20/100\n",
      "\u001b[1m21/21\u001b[0m \u001b[32m━━━━━━━━━━━━━━━━━━━━\u001b[0m\u001b[37m\u001b[0m \u001b[1m0s\u001b[0m 2ms/step - accuracy: 0.5556 - loss: 0.6851 - val_accuracy: 0.5455 - val_loss: 0.6910\n",
      "Epoch 21/100\n",
      "\u001b[1m21/21\u001b[0m \u001b[32m━━━━━━━━━━━━━━━━━━━━\u001b[0m\u001b[37m\u001b[0m \u001b[1m0s\u001b[0m 2ms/step - accuracy: 0.5469 - loss: 0.6845 - val_accuracy: 0.5524 - val_loss: 0.6908\n",
      "Epoch 22/100\n",
      "\u001b[1m21/21\u001b[0m \u001b[32m━━━━━━━━━━━━━━━━━━━━\u001b[0m\u001b[37m\u001b[0m \u001b[1m0s\u001b[0m 2ms/step - accuracy: 0.5635 - loss: 0.6868 - val_accuracy: 0.5175 - val_loss: 0.6905\n",
      "Epoch 23/100\n",
      "\u001b[1m21/21\u001b[0m \u001b[32m━━━━━━━━━━━━━━━━━━━━\u001b[0m\u001b[37m\u001b[0m \u001b[1m0s\u001b[0m 2ms/step - accuracy: 0.5486 - loss: 0.6869 - val_accuracy: 0.5315 - val_loss: 0.6904\n",
      "Epoch 24/100\n",
      "\u001b[1m21/21\u001b[0m \u001b[32m━━━━━━━━━━━━━━━━━━━━\u001b[0m\u001b[37m\u001b[0m \u001b[1m0s\u001b[0m 2ms/step - accuracy: 0.5519 - loss: 0.6809 - val_accuracy: 0.5385 - val_loss: 0.6894\n",
      "Epoch 25/100\n",
      "\u001b[1m21/21\u001b[0m \u001b[32m━━━━━━━━━━━━━━━━━━━━\u001b[0m\u001b[37m\u001b[0m \u001b[1m0s\u001b[0m 2ms/step - accuracy: 0.5220 - loss: 0.6913 - val_accuracy: 0.5245 - val_loss: 0.6903\n",
      "Epoch 26/100\n",
      "\u001b[1m21/21\u001b[0m \u001b[32m━━━━━━━━━━━━━━━━━━━━\u001b[0m\u001b[37m\u001b[0m \u001b[1m0s\u001b[0m 2ms/step - accuracy: 0.5818 - loss: 0.6734 - val_accuracy: 0.5385 - val_loss: 0.6888\n",
      "Epoch 27/100\n",
      "\u001b[1m21/21\u001b[0m \u001b[32m━━━━━━━━━━━━━━━━━━━━\u001b[0m\u001b[37m\u001b[0m \u001b[1m0s\u001b[0m 2ms/step - accuracy: 0.5682 - loss: 0.6805 - val_accuracy: 0.5664 - val_loss: 0.6906\n",
      "Epoch 28/100\n",
      "\u001b[1m21/21\u001b[0m \u001b[32m━━━━━━━━━━━━━━━━━━━━\u001b[0m\u001b[37m\u001b[0m \u001b[1m0s\u001b[0m 2ms/step - accuracy: 0.5336 - loss: 0.6848 - val_accuracy: 0.5664 - val_loss: 0.6910\n",
      "Epoch 29/100\n",
      "\u001b[1m21/21\u001b[0m \u001b[32m━━━━━━━━━━━━━━━━━━━━\u001b[0m\u001b[37m\u001b[0m \u001b[1m0s\u001b[0m 2ms/step - accuracy: 0.5766 - loss: 0.6800 - val_accuracy: 0.5804 - val_loss: 0.6898\n",
      "Epoch 30/100\n",
      "\u001b[1m21/21\u001b[0m \u001b[32m━━━━━━━━━━━━━━━━━━━━\u001b[0m\u001b[37m\u001b[0m \u001b[1m0s\u001b[0m 2ms/step - accuracy: 0.5581 - loss: 0.6853 - val_accuracy: 0.5315 - val_loss: 0.6908\n",
      "Epoch 31/100\n",
      "\u001b[1m21/21\u001b[0m \u001b[32m━━━━━━━━━━━━━━━━━━━━\u001b[0m\u001b[37m\u001b[0m \u001b[1m0s\u001b[0m 2ms/step - accuracy: 0.5561 - loss: 0.6849 - val_accuracy: 0.5455 - val_loss: 0.6918\n",
      "Epoch 32/100\n",
      "\u001b[1m21/21\u001b[0m \u001b[32m━━━━━━━━━━━━━━━━━━━━\u001b[0m\u001b[37m\u001b[0m \u001b[1m0s\u001b[0m 2ms/step - accuracy: 0.5185 - loss: 0.6845 - val_accuracy: 0.5594 - val_loss: 0.6911\n",
      "Epoch 33/100\n",
      "\u001b[1m21/21\u001b[0m \u001b[32m━━━━━━━━━━━━━━━━━━━━\u001b[0m\u001b[37m\u001b[0m \u001b[1m0s\u001b[0m 2ms/step - accuracy: 0.5799 - loss: 0.6745 - val_accuracy: 0.5105 - val_loss: 0.6920\n",
      "Epoch 34/100\n",
      "\u001b[1m21/21\u001b[0m \u001b[32m━━━━━━━━━━━━━━━━━━━━\u001b[0m\u001b[37m\u001b[0m \u001b[1m0s\u001b[0m 2ms/step - accuracy: 0.4740 - loss: 0.6961 - val_accuracy: 0.5524 - val_loss: 0.6942\n",
      "Epoch 35/100\n",
      "\u001b[1m21/21\u001b[0m \u001b[32m━━━━━━━━━━━━━━━━━━━━\u001b[0m\u001b[37m\u001b[0m \u001b[1m0s\u001b[0m 2ms/step - accuracy: 0.5323 - loss: 0.6799 - val_accuracy: 0.5385 - val_loss: 0.6922\n",
      "Epoch 36/100\n",
      "\u001b[1m21/21\u001b[0m \u001b[32m━━━━━━━━━━━━━━━━━━━━\u001b[0m\u001b[37m\u001b[0m \u001b[1m0s\u001b[0m 2ms/step - accuracy: 0.5373 - loss: 0.6745 - val_accuracy: 0.5874 - val_loss: 0.6921\n"
     ]
    }
   ],
   "source": [
    "from tensorflow.keras.callbacks import EarlyStopping\n",
    "\n",
    "# Compilar o modelo\n",
    "model_improved.compile(optimizer='adam',\n",
    "                       loss='binary_crossentropy',\n",
    "                       metrics=['accuracy'])\n",
    "\n",
    "# Definir o Early Stopping para evitar overfitting\n",
    "early_stop = EarlyStopping(monitor='val_loss', patience=10, restore_best_weights=True)\n",
    "\n",
    "# Treinar o modelo aprimorado\n",
    "history_improved = model_improved.fit(X_train, y_train, # Dados de treino\n",
    "                                      epochs=100, \n",
    "                                      batch_size=32,\n",
    "                                      validation_data=(X_val, y_val),\n",
    "                                      callbacks=[early_stop],\n",
    "                                      verbose=1)\n",
    "\n",
    "# em resumo, o trecho acima compila o modelo, define o early stopping e treina o modelo"
   ]
  },
  {
   "cell_type": "markdown",
   "metadata": {},
   "source": [
    "# Análise\n",
    "\n",
    "## 1. Acurácia\n",
    "\n",
    "- **Acurácia**: 58.04%\n",
    "- **Interpretação**: O modelo está acertando 58.04% das previsões no conjunto de teste, indicando que o modelo está apenas um pouco melhor do que o acaso (50%).\n",
    "\n",
    "### Classe 0 (Não Popular):\n",
    "\n",
    "- **Precisão**: 0.57 - previsões\n",
    "- **Recall**: 0.64 - O modelo conseguiu identificar corretamente 64% das verdadeiras instâncias de \"Não Popular\".\n",
    "- **F1-Score**: 0.61\n",
    "\n",
    "### Classe 1 (Popular):\n",
    "\n",
    "- **Precisão**: 0.59 - previsões\n",
    "- **Recall (Sensibilidade)**: 0.52 - casos reais\n",
    "- **F1-Score**: 0.55\n",
    "\n",
    "## Matriz de Confusão\n",
    "\n",
    "  - **Verdadeiros Negativos (46)**: Músicas que eram realmente \"Não Popular\" e foram classificadas como tal.\n",
    "  - **Falsos Positivos (26)**: Músicas que eram \"Não Popular\" mas foram incorretamente classificadas como \"Popular\".\n",
    "  - **Falsos Negativos (34)**: Músicas que eram \"Popular\" mas foram incorretamente classificadas como \"Não Popular\".\n",
    "  - **Verdadeiros Positivos (37)**: Músicas que eram realmente \"Popular\" e foram classificadas como tal.\n",
    "\n",
    "  - **Balanceamento das Classes**: As classes continuam balanceadas\n",
    "\n",
    "\n",
    "\n",
    "  - ## Desempenho Geral:\n",
    "    - **Classe 0 (\"Não Popular\")**: Melhor desempenho em identificar corretamente esta classe (maior recall).\n",
    "    - **Classe 1 (\"Popular\")**: Dificuldade maior em identificar corretamente esta classe (menor recall).\n",
    "\n",
    "## 4. Interpretação Geral\n",
    "\n",
    "- **Desempenho nas Classes**:\n",
    "  - O modelo é melhor em identificar músicas que não são populares do que em identificar aquelas que são populares.\n",
    "- **Falsos Negativos Elevados**: O modelo está deixando passar muitas músicas que realmente são populares (34 falsos negativos).\n"
   ]
  },
  {
   "cell_type": "code",
   "execution_count": 6,
   "metadata": {},
   "outputs": [
    {
     "name": "stdout",
     "output_type": "stream",
     "text": [
      "\u001b[1m5/5\u001b[0m \u001b[32m━━━━━━━━━━━━━━━━━━━━\u001b[0m\u001b[37m\u001b[0m \u001b[1m0s\u001b[0m 5ms/step \n",
      "Primeiras 10 previsões de probabilidade:\n",
      "[[0.48716497]\n",
      " [0.442307  ]\n",
      " [0.48061714]\n",
      " [0.4929433 ]\n",
      " [0.39327517]\n",
      " [0.4940129 ]\n",
      " [0.45094615]\n",
      " [0.47470555]\n",
      " [0.34367716]\n",
      " [0.5378033 ]]\n"
     ]
    }
   ],
   "source": [
    "# Gerar previsões de probabilidade no conjunto de teste usando o modelo aprimorado\n",
    "y_pred_prob_improved = model_improved.predict(X_test)\n",
    "\n",
    "# Exibir as primeiras 10 previsões de probabilidade\n",
    "print(\"Primeiras 10 previsões de probabilidade:\")\n",
    "print(y_pred_prob_improved[:10])\n"
   ]
  },
  {
   "cell_type": "markdown",
   "metadata": {},
   "source": [
    "ajustando limiar de decisão ---- se a probabilidade prevista for maior ou igual a 0.4, a música será classificada como \"Popular\" (1).\n"
   ]
  },
  {
   "cell_type": "code",
   "execution_count": 7,
   "metadata": {},
   "outputs": [
    {
     "name": "stdout",
     "output_type": "stream",
     "text": [
      "Relatório de Classificação com Limiar 0.4:\n",
      "              precision    recall  f1-score   support\n",
      "\n",
      "           0       0.75      0.08      0.15        72\n",
      "           1       0.51      0.97      0.67        71\n",
      "\n",
      "    accuracy                           0.52       143\n",
      "   macro avg       0.63      0.53      0.41       143\n",
      "weighted avg       0.63      0.52      0.41       143\n",
      "\n",
      "Matriz de Confusão com Limiar 0.4:\n",
      "[[ 6 66]\n",
      " [ 2 69]]\n"
     ]
    }
   ],
   "source": [
    "from sklearn.metrics import classification_report, confusion_matrix\n",
    "\n",
    "# Definir um novo limiar (por exemplo, 0.4)\n",
    "new_threshold = 0.4\n",
    "y_pred_new_improved = (y_pred_prob_improved >= new_threshold).astype(int).flatten()\n",
    "\n",
    "# Relatório de Classificação com o novo limiar\n",
    "print(\"Relatório de Classificação com Limiar 0.4:\")\n",
    "print(classification_report(y_test, y_pred_new_improved))\n",
    "\n",
    "# Matriz de Confusão com o novo limiar\n",
    "cm_new_improved = confusion_matrix(y_test, y_pred_new_improved)\n",
    "print(\"Matriz de Confusão com Limiar 0.4:\")\n",
    "print(cm_new_improved)\n"
   ]
  },
  {
   "cell_type": "markdown",
   "metadata": {},
   "source": [
    "# novos resultados com limiar de 0.4:\n",
    "\n",
    "\n",
    "### Classe 0 (Não Popular):\n",
    "\n",
    "- **Precisão**: 0.75 - previsão\n",
    "- **Recall (Sensibilidade)**: 0.08 - dados reais\n",
    "- **F1-Score**: 0.15 - Indica um equilíbrio fraco entre precisão e recall para essa classe.\n",
    "\n",
    "### Classe 1 (Popular):\n",
    "\n",
    "- **Precisão**: 0.51 - previsão\n",
    "- **Recall (Sensibilidade)**: 0.97 - dados reais\n",
    "- **F1-Score**: 0.67 -  Melhor equilíbrio entre precisão e recall para a classe \"Popular\".\n",
    "\n",
    "### Acurácia:\n",
    "\n",
    "-  52%\n",
    "\n",
    "## Matriz de Confusão\n",
    "\n",
    "- **Verdadeiros Negativos (6)**: Músicas que eram realmente \"Não Popular\" e foram corretamente classificadas como tal.\n",
    "- **Falsos Positivos (66)**: Músicas que eram \"Não Popular\" mas foram incorretamente classificadas como \"Popular\".\n",
    "- **Falsos Negativos (2)**: Músicas que eram \"Popular\" mas foram incorretamente classificadas como \"Não Popular\".\n",
    "- **Verdadeiros Positivos (69)**: Músicas que eram realmente \"Popular\" e foram corretamente classificadas como tal.\n",
    "\n",
    "\n",
    "### Classe \"Não Popular\":\n",
    "\n",
    "- **Alta Precisão, Baixo Recall**: O modelo provou-se bom em identificar quando uma música não é popular (75% das previsões estão corretas), mas falha em reconhecer a maioria das músicas que realmente não são populares (apenas 8% de recall).\n",
    "-  Muitos falsos positivos.\n",
    "\n",
    "\n",
    "### Classe \"Popular\":\n",
    "\n",
    "- **Moderada Precisão, Muito Alto Recall**: O modelo consegue identificar a maioria das músicas que são realmente populares (97% de recall), mas apenas metade dessas previsões está correta (51% de precisão).\n",
    "-  Muitos falsos positivos.\n",
    "\n",
    "### Insights:\n",
    "\n",
    "### Aumento no Recall da Classe \"Popular\":\n",
    "\n",
    "- **Antes (Limiar 0.5)**: Recall de 0.52 para a classe \"Popular\".\n",
    "- **Depois (Limiar 0.4)**: Recall aumentou para 0.97.\n",
    "- Para instâncias populares, reduziu-se significativamente os falsos negativos.\n",
    "\n",
    "### Aumento na Precisão da Classe \"Não Popular\":\n",
    "\n",
    "- **Antes (Limiar 0.5)**: Precisão de 0.57 para a classe \"Não Popular\".\n",
    "- **Depois (Limiar 0.4)**: Precisão aumentou para 0.75.\n",
    "\n",
    "### Redução do Recall da Classe \"Não Popular\":\n",
    "\n",
    "- **Antes (Limiar 0.5)**: Recall de 0.64 para a classe \"Não Popular\".\n",
    "- **Depois (Limiar 0.4)**: Recall caiu para 0.08.\n",
    "- muitos falsos positivos.\n",
    "\n",
    "### Acurácia Geral:\n",
    "\n",
    "- **Antes (Limiar 0.5)**: 58.04%.\n",
    "- **Depois (Limiar 0.4)**: 52%.\n",
    "- A acurácia geral diminuiu.\n",
    "\n",
    "### impressões\n",
    "\n",
    "- Reduzir o limiar aumentou o recall para instâncias populares, mas também reduzuy a precisão em não-populares."
   ]
  },
  {
   "cell_type": "markdown",
   "metadata": {},
   "source": [
    " Experimentando com Diferentes Funções de Ativação"
   ]
  },
  {
   "cell_type": "code",
   "execution_count": 10,
   "metadata": {},
   "outputs": [
    {
     "name": "stderr",
     "output_type": "stream",
     "text": [
      "c:\\Users\\ianfe\\Desktop\\IA\\projeto_dupla\\Atividade-4-Redes-Neurais\\venv\\Lib\\site-packages\\keras\\src\\layers\\activations\\leaky_relu.py:41: UserWarning: Argument `alpha` is deprecated. Use `negative_slope` instead.\n",
      "  warnings.warn(\n"
     ]
    },
    {
     "data": {
      "text/html": [
       "<pre style=\"white-space:pre;overflow-x:auto;line-height:normal;font-family:Menlo,'DejaVu Sans Mono',consolas,'Courier New',monospace\"><span style=\"font-weight: bold\">Model: \"sequential_2\"</span>\n",
       "</pre>\n"
      ],
      "text/plain": [
       "\u001b[1mModel: \"sequential_2\"\u001b[0m\n"
      ]
     },
     "metadata": {},
     "output_type": "display_data"
    },
    {
     "data": {
      "text/html": [
       "<pre style=\"white-space:pre;overflow-x:auto;line-height:normal;font-family:Menlo,'DejaVu Sans Mono',consolas,'Courier New',monospace\">┏━━━━━━━━━━━━━━━━━━━━━━━━━━━━━━━━━┳━━━━━━━━━━━━━━━━━━━━━━━━┳━━━━━━━━━━━━━━━┓\n",
       "┃<span style=\"font-weight: bold\"> Layer (type)                    </span>┃<span style=\"font-weight: bold\"> Output Shape           </span>┃<span style=\"font-weight: bold\">       Param # </span>┃\n",
       "┡━━━━━━━━━━━━━━━━━━━━━━━━━━━━━━━━━╇━━━━━━━━━━━━━━━━━━━━━━━━╇━━━━━━━━━━━━━━━┩\n",
       "│ dense_6 (<span style=\"color: #0087ff; text-decoration-color: #0087ff\">Dense</span>)                 │ (<span style=\"color: #00d7ff; text-decoration-color: #00d7ff\">None</span>, <span style=\"color: #00af00; text-decoration-color: #00af00\">128</span>)            │         <span style=\"color: #00af00; text-decoration-color: #00af00\">1,152</span> │\n",
       "├─────────────────────────────────┼────────────────────────┼───────────────┤\n",
       "│ leaky_re_lu (<span style=\"color: #0087ff; text-decoration-color: #0087ff\">LeakyReLU</span>)         │ (<span style=\"color: #00d7ff; text-decoration-color: #00d7ff\">None</span>, <span style=\"color: #00af00; text-decoration-color: #00af00\">128</span>)            │             <span style=\"color: #00af00; text-decoration-color: #00af00\">0</span> │\n",
       "├─────────────────────────────────┼────────────────────────┼───────────────┤\n",
       "│ dropout_4 (<span style=\"color: #0087ff; text-decoration-color: #0087ff\">Dropout</span>)             │ (<span style=\"color: #00d7ff; text-decoration-color: #00d7ff\">None</span>, <span style=\"color: #00af00; text-decoration-color: #00af00\">128</span>)            │             <span style=\"color: #00af00; text-decoration-color: #00af00\">0</span> │\n",
       "├─────────────────────────────────┼────────────────────────┼───────────────┤\n",
       "│ dense_7 (<span style=\"color: #0087ff; text-decoration-color: #0087ff\">Dense</span>)                 │ (<span style=\"color: #00d7ff; text-decoration-color: #00d7ff\">None</span>, <span style=\"color: #00af00; text-decoration-color: #00af00\">64</span>)             │         <span style=\"color: #00af00; text-decoration-color: #00af00\">8,256</span> │\n",
       "├─────────────────────────────────┼────────────────────────┼───────────────┤\n",
       "│ leaky_re_lu_1 (<span style=\"color: #0087ff; text-decoration-color: #0087ff\">LeakyReLU</span>)       │ (<span style=\"color: #00d7ff; text-decoration-color: #00d7ff\">None</span>, <span style=\"color: #00af00; text-decoration-color: #00af00\">64</span>)             │             <span style=\"color: #00af00; text-decoration-color: #00af00\">0</span> │\n",
       "├─────────────────────────────────┼────────────────────────┼───────────────┤\n",
       "│ dropout_5 (<span style=\"color: #0087ff; text-decoration-color: #0087ff\">Dropout</span>)             │ (<span style=\"color: #00d7ff; text-decoration-color: #00d7ff\">None</span>, <span style=\"color: #00af00; text-decoration-color: #00af00\">64</span>)             │             <span style=\"color: #00af00; text-decoration-color: #00af00\">0</span> │\n",
       "├─────────────────────────────────┼────────────────────────┼───────────────┤\n",
       "│ dense_8 (<span style=\"color: #0087ff; text-decoration-color: #0087ff\">Dense</span>)                 │ (<span style=\"color: #00d7ff; text-decoration-color: #00d7ff\">None</span>, <span style=\"color: #00af00; text-decoration-color: #00af00\">1</span>)              │            <span style=\"color: #00af00; text-decoration-color: #00af00\">65</span> │\n",
       "└─────────────────────────────────┴────────────────────────┴───────────────┘\n",
       "</pre>\n"
      ],
      "text/plain": [
       "┏━━━━━━━━━━━━━━━━━━━━━━━━━━━━━━━━━┳━━━━━━━━━━━━━━━━━━━━━━━━┳━━━━━━━━━━━━━━━┓\n",
       "┃\u001b[1m \u001b[0m\u001b[1mLayer (type)                   \u001b[0m\u001b[1m \u001b[0m┃\u001b[1m \u001b[0m\u001b[1mOutput Shape          \u001b[0m\u001b[1m \u001b[0m┃\u001b[1m \u001b[0m\u001b[1m      Param #\u001b[0m\u001b[1m \u001b[0m┃\n",
       "┡━━━━━━━━━━━━━━━━━━━━━━━━━━━━━━━━━╇━━━━━━━━━━━━━━━━━━━━━━━━╇━━━━━━━━━━━━━━━┩\n",
       "│ dense_6 (\u001b[38;5;33mDense\u001b[0m)                 │ (\u001b[38;5;45mNone\u001b[0m, \u001b[38;5;34m128\u001b[0m)            │         \u001b[38;5;34m1,152\u001b[0m │\n",
       "├─────────────────────────────────┼────────────────────────┼───────────────┤\n",
       "│ leaky_re_lu (\u001b[38;5;33mLeakyReLU\u001b[0m)         │ (\u001b[38;5;45mNone\u001b[0m, \u001b[38;5;34m128\u001b[0m)            │             \u001b[38;5;34m0\u001b[0m │\n",
       "├─────────────────────────────────┼────────────────────────┼───────────────┤\n",
       "│ dropout_4 (\u001b[38;5;33mDropout\u001b[0m)             │ (\u001b[38;5;45mNone\u001b[0m, \u001b[38;5;34m128\u001b[0m)            │             \u001b[38;5;34m0\u001b[0m │\n",
       "├─────────────────────────────────┼────────────────────────┼───────────────┤\n",
       "│ dense_7 (\u001b[38;5;33mDense\u001b[0m)                 │ (\u001b[38;5;45mNone\u001b[0m, \u001b[38;5;34m64\u001b[0m)             │         \u001b[38;5;34m8,256\u001b[0m │\n",
       "├─────────────────────────────────┼────────────────────────┼───────────────┤\n",
       "│ leaky_re_lu_1 (\u001b[38;5;33mLeakyReLU\u001b[0m)       │ (\u001b[38;5;45mNone\u001b[0m, \u001b[38;5;34m64\u001b[0m)             │             \u001b[38;5;34m0\u001b[0m │\n",
       "├─────────────────────────────────┼────────────────────────┼───────────────┤\n",
       "│ dropout_5 (\u001b[38;5;33mDropout\u001b[0m)             │ (\u001b[38;5;45mNone\u001b[0m, \u001b[38;5;34m64\u001b[0m)             │             \u001b[38;5;34m0\u001b[0m │\n",
       "├─────────────────────────────────┼────────────────────────┼───────────────┤\n",
       "│ dense_8 (\u001b[38;5;33mDense\u001b[0m)                 │ (\u001b[38;5;45mNone\u001b[0m, \u001b[38;5;34m1\u001b[0m)              │            \u001b[38;5;34m65\u001b[0m │\n",
       "└─────────────────────────────────┴────────────────────────┴───────────────┘\n"
      ]
     },
     "metadata": {},
     "output_type": "display_data"
    },
    {
     "data": {
      "text/html": [
       "<pre style=\"white-space:pre;overflow-x:auto;line-height:normal;font-family:Menlo,'DejaVu Sans Mono',consolas,'Courier New',monospace\"><span style=\"font-weight: bold\"> Total params: </span><span style=\"color: #00af00; text-decoration-color: #00af00\">9,473</span> (37.00 KB)\n",
       "</pre>\n"
      ],
      "text/plain": [
       "\u001b[1m Total params: \u001b[0m\u001b[38;5;34m9,473\u001b[0m (37.00 KB)\n"
      ]
     },
     "metadata": {},
     "output_type": "display_data"
    },
    {
     "data": {
      "text/html": [
       "<pre style=\"white-space:pre;overflow-x:auto;line-height:normal;font-family:Menlo,'DejaVu Sans Mono',consolas,'Courier New',monospace\"><span style=\"font-weight: bold\"> Trainable params: </span><span style=\"color: #00af00; text-decoration-color: #00af00\">9,473</span> (37.00 KB)\n",
       "</pre>\n"
      ],
      "text/plain": [
       "\u001b[1m Trainable params: \u001b[0m\u001b[38;5;34m9,473\u001b[0m (37.00 KB)\n"
      ]
     },
     "metadata": {},
     "output_type": "display_data"
    },
    {
     "data": {
      "text/html": [
       "<pre style=\"white-space:pre;overflow-x:auto;line-height:normal;font-family:Menlo,'DejaVu Sans Mono',consolas,'Courier New',monospace\"><span style=\"font-weight: bold\"> Non-trainable params: </span><span style=\"color: #00af00; text-decoration-color: #00af00\">0</span> (0.00 B)\n",
       "</pre>\n"
      ],
      "text/plain": [
       "\u001b[1m Non-trainable params: \u001b[0m\u001b[38;5;34m0\u001b[0m (0.00 B)\n"
      ]
     },
     "metadata": {},
     "output_type": "display_data"
    },
    {
     "name": "stdout",
     "output_type": "stream",
     "text": [
      "Epoch 1/100\n",
      "\u001b[1m21/21\u001b[0m \u001b[32m━━━━━━━━━━━━━━━━━━━━\u001b[0m\u001b[37m\u001b[0m \u001b[1m1s\u001b[0m 6ms/step - accuracy: 0.5235 - loss: 0.6946 - val_accuracy: 0.5594 - val_loss: 0.6897\n",
      "Epoch 2/100\n",
      "\u001b[1m21/21\u001b[0m \u001b[32m━━━━━━━━━━━━━━━━━━━━\u001b[0m\u001b[37m\u001b[0m \u001b[1m0s\u001b[0m 2ms/step - accuracy: 0.5143 - loss: 0.6939 - val_accuracy: 0.5664 - val_loss: 0.6888\n",
      "Epoch 3/100\n",
      "\u001b[1m21/21\u001b[0m \u001b[32m━━━━━━━━━━━━━━━━━━━━\u001b[0m\u001b[37m\u001b[0m \u001b[1m0s\u001b[0m 2ms/step - accuracy: 0.4897 - loss: 0.6991 - val_accuracy: 0.4965 - val_loss: 0.6900\n",
      "Epoch 4/100\n",
      "\u001b[1m21/21\u001b[0m \u001b[32m━━━━━━━━━━━━━━━━━━━━\u001b[0m\u001b[37m\u001b[0m \u001b[1m0s\u001b[0m 2ms/step - accuracy: 0.5311 - loss: 0.6899 - val_accuracy: 0.5385 - val_loss: 0.6893\n",
      "Epoch 5/100\n",
      "\u001b[1m21/21\u001b[0m \u001b[32m━━━━━━━━━━━━━━━━━━━━\u001b[0m\u001b[37m\u001b[0m \u001b[1m0s\u001b[0m 2ms/step - accuracy: 0.5193 - loss: 0.6955 - val_accuracy: 0.4965 - val_loss: 0.6891\n",
      "Epoch 6/100\n",
      "\u001b[1m21/21\u001b[0m \u001b[32m━━━━━━━━━━━━━━━━━━━━\u001b[0m\u001b[37m\u001b[0m \u001b[1m0s\u001b[0m 2ms/step - accuracy: 0.5193 - loss: 0.6990 - val_accuracy: 0.5524 - val_loss: 0.6884\n",
      "Epoch 7/100\n",
      "\u001b[1m21/21\u001b[0m \u001b[32m━━━━━━━━━━━━━━━━━━━━\u001b[0m\u001b[37m\u001b[0m \u001b[1m0s\u001b[0m 2ms/step - accuracy: 0.5751 - loss: 0.6819 - val_accuracy: 0.5175 - val_loss: 0.6884\n",
      "Epoch 8/100\n",
      "\u001b[1m21/21\u001b[0m \u001b[32m━━━━━━━━━━━━━━━━━━━━\u001b[0m\u001b[37m\u001b[0m \u001b[1m0s\u001b[0m 2ms/step - accuracy: 0.5612 - loss: 0.6864 - val_accuracy: 0.5385 - val_loss: 0.6887\n",
      "Epoch 9/100\n",
      "\u001b[1m21/21\u001b[0m \u001b[32m━━━━━━━━━━━━━━━━━━━━\u001b[0m\u001b[37m\u001b[0m \u001b[1m0s\u001b[0m 2ms/step - accuracy: 0.5123 - loss: 0.6913 - val_accuracy: 0.5175 - val_loss: 0.6887\n",
      "Epoch 10/100\n",
      "\u001b[1m21/21\u001b[0m \u001b[32m━━━━━━━━━━━━━━━━━━━━\u001b[0m\u001b[37m\u001b[0m \u001b[1m0s\u001b[0m 2ms/step - accuracy: 0.5357 - loss: 0.6863 - val_accuracy: 0.5524 - val_loss: 0.6886\n",
      "Epoch 11/100\n",
      "\u001b[1m21/21\u001b[0m \u001b[32m━━━━━━━━━━━━━━━━━━━━\u001b[0m\u001b[37m\u001b[0m \u001b[1m0s\u001b[0m 2ms/step - accuracy: 0.5417 - loss: 0.6850 - val_accuracy: 0.5245 - val_loss: 0.6881\n",
      "Epoch 12/100\n",
      "\u001b[1m21/21\u001b[0m \u001b[32m━━━━━━━━━━━━━━━━━━━━\u001b[0m\u001b[37m\u001b[0m \u001b[1m0s\u001b[0m 2ms/step - accuracy: 0.5394 - loss: 0.6917 - val_accuracy: 0.5455 - val_loss: 0.6884\n",
      "Epoch 13/100\n",
      "\u001b[1m21/21\u001b[0m \u001b[32m━━━━━━━━━━━━━━━━━━━━\u001b[0m\u001b[37m\u001b[0m \u001b[1m0s\u001b[0m 2ms/step - accuracy: 0.5204 - loss: 0.6923 - val_accuracy: 0.5315 - val_loss: 0.6883\n",
      "Epoch 14/100\n",
      "\u001b[1m21/21\u001b[0m \u001b[32m━━━━━━━━━━━━━━━━━━━━\u001b[0m\u001b[37m\u001b[0m \u001b[1m0s\u001b[0m 2ms/step - accuracy: 0.5377 - loss: 0.6899 - val_accuracy: 0.5385 - val_loss: 0.6868\n",
      "Epoch 15/100\n",
      "\u001b[1m21/21\u001b[0m \u001b[32m━━━━━━━━━━━━━━━━━━━━\u001b[0m\u001b[37m\u001b[0m \u001b[1m0s\u001b[0m 2ms/step - accuracy: 0.5612 - loss: 0.6790 - val_accuracy: 0.5035 - val_loss: 0.6881\n",
      "Epoch 16/100\n",
      "\u001b[1m21/21\u001b[0m \u001b[32m━━━━━━━━━━━━━━━━━━━━\u001b[0m\u001b[37m\u001b[0m \u001b[1m0s\u001b[0m 2ms/step - accuracy: 0.5017 - loss: 0.6951 - val_accuracy: 0.5385 - val_loss: 0.6889\n",
      "Epoch 17/100\n",
      "\u001b[1m21/21\u001b[0m \u001b[32m━━━━━━━━━━━━━━━━━━━━\u001b[0m\u001b[37m\u001b[0m \u001b[1m0s\u001b[0m 2ms/step - accuracy: 0.5210 - loss: 0.6908 - val_accuracy: 0.5455 - val_loss: 0.6883\n",
      "Epoch 18/100\n",
      "\u001b[1m21/21\u001b[0m \u001b[32m━━━━━━━━━━━━━━━━━━━━\u001b[0m\u001b[37m\u001b[0m \u001b[1m0s\u001b[0m 2ms/step - accuracy: 0.5439 - loss: 0.6774 - val_accuracy: 0.5245 - val_loss: 0.6890\n",
      "Epoch 19/100\n",
      "\u001b[1m21/21\u001b[0m \u001b[32m━━━━━━━━━━━━━━━━━━━━\u001b[0m\u001b[37m\u001b[0m \u001b[1m0s\u001b[0m 2ms/step - accuracy: 0.5522 - loss: 0.6788 - val_accuracy: 0.5315 - val_loss: 0.6884\n",
      "Epoch 20/100\n",
      "\u001b[1m21/21\u001b[0m \u001b[32m━━━━━━━━━━━━━━━━━━━━\u001b[0m\u001b[37m\u001b[0m \u001b[1m0s\u001b[0m 2ms/step - accuracy: 0.5746 - loss: 0.6870 - val_accuracy: 0.5315 - val_loss: 0.6890\n",
      "Epoch 21/100\n",
      "\u001b[1m21/21\u001b[0m \u001b[32m━━━━━━━━━━━━━━━━━━━━\u001b[0m\u001b[37m\u001b[0m \u001b[1m0s\u001b[0m 2ms/step - accuracy: 0.5276 - loss: 0.6809 - val_accuracy: 0.5524 - val_loss: 0.6890\n",
      "Epoch 22/100\n",
      "\u001b[1m21/21\u001b[0m \u001b[32m━━━━━━━━━━━━━━━━━━━━\u001b[0m\u001b[37m\u001b[0m \u001b[1m0s\u001b[0m 2ms/step - accuracy: 0.5064 - loss: 0.6873 - val_accuracy: 0.5385 - val_loss: 0.6899\n",
      "Epoch 23/100\n",
      "\u001b[1m21/21\u001b[0m \u001b[32m━━━━━━━━━━━━━━━━━━━━\u001b[0m\u001b[37m\u001b[0m \u001b[1m0s\u001b[0m 2ms/step - accuracy: 0.5444 - loss: 0.6807 - val_accuracy: 0.4965 - val_loss: 0.6882\n",
      "Epoch 24/100\n",
      "\u001b[1m21/21\u001b[0m \u001b[32m━━━━━━━━━━━━━━━━━━━━\u001b[0m\u001b[37m\u001b[0m \u001b[1m0s\u001b[0m 2ms/step - accuracy: 0.5325 - loss: 0.6890 - val_accuracy: 0.5105 - val_loss: 0.6886\n"
     ]
    }
   ],
   "source": [
    "from tensorflow.keras.models import Sequential\n",
    "from tensorflow.keras.layers import Dense, Dropout, LeakyReLU\n",
    "from tensorflow.keras.callbacks import EarlyStopping\n",
    "\n",
    "# Definir uma nova arquitetura com Leaky ReLU \n",
    "model_improved_leaky = Sequential([ # Modelo sequencial\n",
    "    Dense(128, input_dim=X_train.shape[1]), # Camada oculta com 128 neurônios\n",
    "    LeakyReLU(alpha=0.1), # Leaky ReLU com alpha=0.1\n",
    "    Dropout(0.5), # Dropout de 50%\n",
    "    Dense(64), # Camada oculta com 64 neurônios\n",
    "    LeakyReLU(alpha=0.1), # Leaky ReLU com alpha=0.1\n",
    "    Dropout(0.5), # Dropout de 50%\n",
    "    Dense(1, activation='sigmoid')  # Saída para classificação binária\n",
    "])\n",
    "\n",
    "# Resumo do novo modelo\n",
    "model_improved_leaky.summary()\n",
    "\n",
    "# Compilar o modelo\n",
    "model_improved_leaky.compile(optimizer='adam',\n",
    "                             loss='binary_crossentropy',\n",
    "                             metrics=['accuracy'])\n",
    "\n",
    "# Definir o Early Stopping para evitar overfitting\n",
    "early_stop_leaky = EarlyStopping(monitor='val_loss', patience=10, restore_best_weights=True)\n",
    "\n",
    "# Treinar o modelo aprimorado com Leaky ReLU\n",
    "history_leaky = model_improved_leaky.fit(X_train, y_train,\n",
    "                                        epochs=100,\n",
    "                                        batch_size=32,\n",
    "                                        validation_data=(X_val, y_val),\n",
    "                                        callbacks=[early_stop_leaky],\n",
    "                                        verbose=1)\n",
    "\n",
    "\n",
    "# em resumo, o trecho acima define um modelo com Leaky ReLU e treina o modelo.\n"
   ]
  },
  {
   "cell_type": "markdown",
   "metadata": {},
   "source": [
    "# Análise\n",
    "\n",
    "### Classe 0 (Não Popular):\n",
    "\n",
    "- **Precisão**: 0.75 (75%)\n",
    "- **Recall**: 0.08 (8%)\n",
    "- **F1-Score**: 0.15\n",
    "\n",
    "### Classe 1 (Popular):\n",
    "\n",
    "- **Precisão**: 0.51 (51%)\n",
    "- **Recall**: 0.97 (97%)\n",
    "- **F1-Score**: 0.67\n",
    "\n",
    "**Acurácia Geral**: 52%\n",
    "\n",
    "## Classe \"Popular\":\n",
    "\n",
    "- **Alto recall**: O modelo identifica corretamente 97% das músicas populares, o que é excelente.\n",
    "- **Precisão Moderada**: Apenas 51% das previsões \"Popular\" estão corretas, indicando muitos falsos positivos (66 músicas \"Não Populares\" classificadas como \"Popular\").\n",
    "\n",
    "## Classe \"Não Popular\":\n",
    "\n",
    "- **Alta Precisão**: 75% das previsões como \"Não Popular\" estão corretas.\n",
    "- **Baixo Recall**: Apenas 8% das verdadeiras \"Não Populares\" são identificadas corretamente, resultando em muitos falsos negativos.\n",
    "\n",
    "**Acurácia Geral**: A acurácia de 52% está apenas um pouco acima do acaso (50%).\n",
    "\n",
    "## Impressões gerais\n",
    "\n",
    "\n",
    "- O modelo está muito inclinado a classificar músicas como \"Popular\" para maximizar o recall dessa classe, mas isso compromete a precisão geral e a capacidade de identificar corretamente músicas \"Não Populares\".\n"
   ]
  }
 ],
 "metadata": {
  "kernelspec": {
   "display_name": "venv",
   "language": "python",
   "name": "python3"
  },
  "language_info": {
   "codemirror_mode": {
    "name": "ipython",
    "version": 3
   },
   "file_extension": ".py",
   "mimetype": "text/x-python",
   "name": "python",
   "nbconvert_exporter": "python",
   "pygments_lexer": "ipython3",
   "version": "3.12.4"
  }
 },
 "nbformat": 4,
 "nbformat_minor": 2
}
