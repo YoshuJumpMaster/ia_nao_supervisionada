{
 "cells": [
  {
   "cell_type": "code",
   "execution_count": 1,
   "metadata": {},
   "outputs": [],
   "source": [
    "import pandas as pd\n",
    "import numpy as np\n",
    "from sklearn.model_selection import train_test_split\n",
    "from sklearn.preprocessing import MinMaxScaler"
   ]
  },
  {
   "cell_type": "code",
   "execution_count": 2,
   "metadata": {},
   "outputs": [
    {
     "name": "stdout",
     "output_type": "stream",
     "text": [
      "diretório: c:\\Users\\ianfe\\Desktop\\IA\\projeto_dupla\\Atividade-4-Redes-Neurais\\notebooks\n",
      "                            track_name    artist(s)_name  artist_count  \\\n",
      "0  Seven (feat. Latto) (Explicit Ver.)  Latto, Jung Kook             2   \n",
      "1                                 LALA       Myke Towers             1   \n",
      "2                              vampire    Olivia Rodrigo             1   \n",
      "3                         Cruel Summer      Taylor Swift             1   \n",
      "4                       WHERE SHE GOES         Bad Bunny             1   \n",
      "\n",
      "   released_year  released_month  released_day  in_spotify_playlists  \\\n",
      "0           2023               7            14                   553   \n",
      "1           2023               3            23                  1474   \n",
      "2           2023               6            30                  1397   \n",
      "3           2019               8            23                  7858   \n",
      "4           2023               5            18                  3133   \n",
      "\n",
      "   in_spotify_charts    streams  in_apple_playlists  ...  key   mode  \\\n",
      "0                147  141381703                  43  ...    B  Major   \n",
      "1                 48  133716286                  48  ...   C#  Major   \n",
      "2                113  140003974                  94  ...    F  Major   \n",
      "3                100  800840817                 116  ...    A  Major   \n",
      "4                 50  303236322                  84  ...    A  Minor   \n",
      "\n",
      "   danceability_% valence_%  energy_% acousticness_% instrumentalness_%  \\\n",
      "0              80        89        83             31                  0   \n",
      "1              71        61        74              7                  0   \n",
      "2              51        32        53             17                  0   \n",
      "3              55        58        72             11                  0   \n",
      "4              65        23        80             14                 63   \n",
      "\n",
      "   liveness_%  speechiness_%  \\\n",
      "0           8              4   \n",
      "1          10              4   \n",
      "2          31              6   \n",
      "3          11             15   \n",
      "4          11              6   \n",
      "\n",
      "                                           cover_url  \n",
      "0                                          Not Found  \n",
      "1  https://i.scdn.co/image/ab67616d0000b2730656d5...  \n",
      "2  https://i.scdn.co/image/ab67616d0000b273e85259...  \n",
      "3  https://i.scdn.co/image/ab67616d0000b273e787cf...  \n",
      "4  https://i.scdn.co/image/ab67616d0000b273ab5c9c...  \n",
      "\n",
      "[5 rows x 25 columns]\n"
     ]
    }
   ],
   "source": [
    "# Ler o arquivo CSV com os parâmetros adequados\n",
    "\n",
    "import os\n",
    "\n",
    "os.chdir(os.path.dirname(os.getcwd()))\n",
    "print(\"diretório:\", os.getcwd())\n",
    "\n",
    "\n",
    "df = pd.read_csv('../dados/Spotify_Most_Streamed_Songs.csv',\n",
    "                 sep=',',            # Separador é a vírgula\n",
    "                 quotechar='\"',      \n",
    "                 engine='python',   \n",
    "                 skipinitialspace=True,  # Ignora espaços após o separador\n",
    "                 na_values=['', ' '],    # Trata strings vazias como NaN\n",
    "                 on_bad_lines='skip'     # Ignora linhas com erros\n",
    "                 )\n",
    "\n",
    "# Exibir as primeiras linhas de dado\n",
    "print(df.head())\n"
   ]
  },
  {
   "cell_type": "code",
   "execution_count": 3,
   "metadata": {},
   "outputs": [
    {
     "name": "stdout",
     "output_type": "stream",
     "text": [
      "object\n"
     ]
    }
   ],
   "source": [
    "print(df['streams'].dtype) # mostrar o tipo de dado da coluna streams"
   ]
  },
  {
   "cell_type": "code",
   "execution_count": 4,
   "metadata": {},
   "outputs": [],
   "source": [
    "## converter a coluna streams para tipo adequado para manipulação\n",
    "\n",
    "df['streams'] = df['streams'].astype(str) # converter para string\n",
    "df['streams'] = df['streams'].replace('nan', np.nan) # substituir 'nan' por NaN, facilita a manipulação\n",
    "df.dropna(subset=['streams'], inplace=True) # remover linhas com NaN"
   ]
  },
  {
   "cell_type": "code",
   "execution_count": 5,
   "metadata": {},
   "outputs": [
    {
     "name": "stdout",
     "output_type": "stream",
     "text": [
      "Valores nulos em 'streams': 0\n"
     ]
    }
   ],
   "source": [
    "# Remover vírgulas dos valores em 'streams' e converter para numérico\n",
    "df['streams'] = df['streams'].str.replace(',', '')\n",
    "df['streams'] = pd.to_numeric(df['streams'], errors='coerce')\n",
    "\n",
    "\n",
    "# Remover linhas com valores nulos em 'streams'\n",
    "df.dropna(subset=['streams'], inplace=True)\n",
    "\n",
    "# Verificar valores nulos em 'streams'\n",
    "print(\"Valores nulos em 'streams':\", df['streams'].isnull().sum())\n"
   ]
  },
  {
   "cell_type": "code",
   "execution_count": 6,
   "metadata": {},
   "outputs": [],
   "source": [
    "# Criar a coluna 'popular' baseada na mediana de 'streams'\n",
    "df['popular'] = (df['streams'] >= df['streams'].median()).astype(int)\n",
    "\n",
    "# criamos essa coluna para facilitar a visualização dos dados\n",
    "# a coluna 'popular' é uma variável categórica que indica se a música é popular ou não\n"
   ]
  },
  {
   "cell_type": "code",
   "execution_count": 7,
   "metadata": {},
   "outputs": [
    {
     "name": "stdout",
     "output_type": "stream",
     "text": [
      "Features disponíveis: Index(['track_name', 'artist(s)_name', 'artist_count', 'released_year',\n",
      "       'released_month', 'released_day', 'in_spotify_playlists',\n",
      "       'in_spotify_charts', 'streams', 'in_apple_playlists', 'in_apple_charts',\n",
      "       'in_deezer_playlists', 'in_deezer_charts', 'in_shazam_charts', 'bpm',\n",
      "       'key', 'mode', 'danceability_%', 'valence_%', 'energy_%',\n",
      "       'acousticness_%', 'instrumentalness_%', 'liveness_%', 'speechiness_%',\n",
      "       'cover_url', 'popular'],\n",
      "      dtype='object')\n"
     ]
    }
   ],
   "source": [
    "features = ['bpm', 'danceability_%', 'valence_%', 'energy_%',\n",
    "            'acousticness_%', 'instrumentalness_%', 'liveness_%', 'speechiness_%'] # features que serão utilizadas\n",
    "\n",
    "# as features são as características das músicas que serão utilizadas para prever se a música é popular ou não\n",
    "\n",
    "# Verificar se as features existem no DataFrame\n",
    "print(\"Features disponíveis:\", df.columns)\n"
   ]
  },
  {
   "cell_type": "code",
   "execution_count": 8,
   "metadata": {},
   "outputs": [
    {
     "name": "stdout",
     "output_type": "stream",
     "text": [
      "bpm                   0\n",
      "danceability_%        0\n",
      "valence_%             0\n",
      "energy_%              0\n",
      "acousticness_%        0\n",
      "instrumentalness_%    0\n",
      "liveness_%            0\n",
      "speechiness_%         0\n",
      "dtype: int64\n"
     ]
    }
   ],
   "source": [
    "# Verificar valores ausentes nas features\n",
    "print(df[features].isnull().sum())\n",
    "\n",
    "# Remover linhas com valores ausentes nas features\n",
    "df.dropna(subset=features, inplace=True)\n"
   ]
  },
  {
   "cell_type": "code",
   "execution_count": 9,
   "metadata": {},
   "outputs": [],
   "source": [
    "X = df[features].values # é uma variável de entrada que contém as features\n",
    "y = df['popular'].values # é a variável de saída que contém a popularidade das músicas\n",
    "\n",
    "# nesse caso, x representa as features e y representa a popularidade das músicas\n",
    "# fazemos isso para que o modelo possa aprender a relação entre as features e a popularidade das músicas\n"
   ]
  },
  {
   "cell_type": "code",
   "execution_count": 10,
   "metadata": {},
   "outputs": [],
   "source": [
    "# Divisão inicial: treino (70%) e restante (30%)\n",
    "X_train, X_temp, y_train, y_temp = train_test_split(X, y, test_size=0.3, random_state=42, stratify=y) # divide os dados em treino e restante\n",
    "\n",
    "# a função train_test_split divide os dados em treino e teste\n",
    "\n",
    "# Divisão do restante: validação (15%) e teste (15%)\n",
    "X_val, X_test, y_val, y_test = train_test_split(X_temp, y_temp, test_size=0.5, random_state=42, stratify=y_temp) # divide o restante em validação e teste\n"
   ]
  },
  {
   "cell_type": "code",
   "execution_count": 11,
   "metadata": {},
   "outputs": [],
   "source": [
    "scaler = MinMaxScaler() # inicializa o escalonador\n",
    "\n",
    "# Ajusta e transforma os dados de treino\n",
    "X_train = scaler.fit_transform(X_train)\n",
    "\n",
    "# Transforma os dados de validação e teste\n",
    "X_val = scaler.transform(X_val)\n",
    "X_test = scaler.transform(X_test)\n"
   ]
  },
  {
   "cell_type": "code",
   "execution_count": 12,
   "metadata": {},
   "outputs": [],
   "source": [
    "# Salvar os dados processados para uso posterior\n",
    "np.savez('../dados/dados_processados.npz',\n",
    "         X_train=X_train, y_train=y_train,\n",
    "         X_val=X_val, y_val=y_val,\n",
    "         X_test=X_test, y_test=y_test)\n"
   ]
  },
  {
   "cell_type": "code",
   "execution_count": 13,
   "metadata": {},
   "outputs": [
    {
     "name": "stdout",
     "output_type": "stream",
     "text": [
      "Forma de X_train: (666, 8)\n",
      "Forma de y_train: (666,)\n",
      "Forma de X_val: (143, 8)\n",
      "Forma de y_val: (143,)\n",
      "Forma de X_test: (143, 8)\n",
      "Forma de y_test: (143,)\n"
     ]
    }
   ],
   "source": [
    "# Verificar os conjuntos de dados\n",
    "print(\"Forma de X_train:\", X_train.shape)\n",
    "print(\"Forma de y_train:\", y_train.shape)\n",
    "print(\"Forma de X_val:\", X_val.shape)\n",
    "print(\"Forma de y_val:\", y_val.shape)\n",
    "print(\"Forma de X_test:\", X_test.shape)\n",
    "print(\"Forma de y_test:\", y_test.shape)\n"
   ]
  }
 ],
 "metadata": {
  "kernelspec": {
   "display_name": "venv",
   "language": "python",
   "name": "python3"
  },
  "language_info": {
   "codemirror_mode": {
    "name": "ipython",
    "version": 3
   },
   "file_extension": ".py",
   "mimetype": "text/x-python",
   "name": "python",
   "nbconvert_exporter": "python",
   "pygments_lexer": "ipython3",
   "version": "3.12.4"
  }
 },
 "nbformat": 4,
 "nbformat_minor": 2
}
